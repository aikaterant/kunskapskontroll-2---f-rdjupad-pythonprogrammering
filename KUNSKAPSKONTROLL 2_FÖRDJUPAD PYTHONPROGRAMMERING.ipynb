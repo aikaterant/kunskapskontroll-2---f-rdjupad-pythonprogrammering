{
 "cells": [
  {
   "cell_type": "code",
   "execution_count": 27,
   "id": "316e6877",
   "metadata": {},
   "outputs": [
    {
     "name": "stdout",
     "output_type": "stream",
     "text": [
      "{'id': 'bitcoin', 'symbol': 'btc', 'name': 'Bitcoin', 'image': 'https://coin-images.coingecko.com/coins/images/1/large/bitcoin.png?1696501400', 'current_price': 66054, 'market_cap': 1305482290062, 'market_cap_rank': 1, 'fully_diluted_valuation': 1387430123561, 'total_volume': 32738934779, 'high_24h': 66439, 'low_24h': 64665, 'price_change_24h': 778.63, 'price_change_percentage_24h': 1.19285, 'market_cap_change_24h': 15907231961, 'market_cap_change_percentage_24h': 1.23353, 'circulating_supply': 19759646.0, 'total_supply': 21000000.0, 'max_supply': 21000000.0, 'ath': 73738, 'ath_change_percentage': -10.07435, 'ath_date': '2024-03-14T07:10:36.635Z', 'atl': 67.81, 'atl_change_percentage': 97688.37016, 'atl_date': '2013-07-06T00:00:00.000Z', 'roi': None, 'last_updated': '2024-09-27T15:58:45.314Z'}\n"
     ]
    }
   ],
   "source": [
    "import requests\n",
    "\n",
    "# Define the API URL for retrieving Bitcoin data\n",
    "url = \"https://api.coingecko.com/api/v3/coins/markets\"\n",
    "\n",
    "# Set parameters for the API request\n",
    "params = {\n",
    "    'vs_currency': 'usd',  # The currency to retrieve the price in\n",
    "    'ids': 'bitcoin',      # The cryptocurrency we are interested in\n",
    "    'order': 'market_cap_desc'  # Order by market capitalization\n",
    "}\n",
    "\n",
    "# Make the request to the API\n",
    "response = requests.get(url, params=params)\n",
    "\n",
    "# Check if the request was successful (status code 200)\n",
    "if response.status_code == 200:\n",
    "    # Retrieve the data in JSON format\n",
    "    bitcoin_data = response.json()\n",
    "     # Add this line to extract the first item from the list\n",
    "    bitcoin_data = bitcoin_data[0]\n",
    "    print(bitcoin_data)\n",
    "else:\n",
    "    print(f\"Error: {response.status_code}\")\n"
   ]
  },
  {
   "cell_type": "code",
   "execution_count": 30,
   "id": "6630171d",
   "metadata": {},
   "outputs": [
    {
     "name": "stdout",
     "output_type": "stream",
     "text": [
      "{'id': 'bitcoin', 'symbol': 'btc', 'name': 'Bitcoin', 'image': 'https://coin-images.coingecko.com/coins/images/1/large/bitcoin.png?1696501400', 'current_price': 66054, 'market_cap': 1305482290062, 'market_cap_rank': 1, 'fully_diluted_valuation': 1387430123561, 'total_volume': 32738934779, 'high_24h': 66439, 'low_24h': 64665, 'price_change_24h': 778.63, 'price_change_percentage_24h': 1.19, 'market_cap_change_24h': 15907231961, 'market_cap_change_percentage_24h': 1.23, 'circulating_supply': 19759646.0, 'total_supply': 21000000.0, 'max_supply': 21000000.0, 'ath': 73738, 'ath_change_percentage': -10.07, 'ath_date': '2024-03-14T07:10:36.635Z', 'atl': 67.81, 'atl_change_percentage': 97688.37, 'atl_date': '2013-07-06T00:00:00.000Z', 'roi': None, 'last_updated': '2024-09-27T15:58:45.314Z'}\n"
     ]
    }
   ],
   "source": [
    "#Round all relevant numerical values to 2 decimal places\n",
    "bitcoin_data['current_price'] = round(bitcoin_data['current_price'], 2)\n",
    "bitcoin_data['high_24h'] = round(bitcoin_data['high_24h'], 2)\n",
    "bitcoin_data['low_24h'] = round(bitcoin_data['low_24h'], 2)\n",
    "bitcoin_data['price_change_24h'] = round(bitcoin_data['price_change_24h'], 2)\n",
    "bitcoin_data['price_change_percentage_24h'] = round(bitcoin_data['price_change_percentage_24h'], 2)\n",
    "bitcoin_data['market_cap_change_percentage_24h'] = round(bitcoin_data['market_cap_change_percentage_24h'], 2)\n",
    "bitcoin_data['ath_change_percentage'] = round(bitcoin_data['ath_change_percentage'], 2)\n",
    "bitcoin_data['atl_change_percentage'] = round(bitcoin_data['atl_change_percentage'], 2)\n",
    "print(bitcoin_data)"
   ]
  },
  {
   "cell_type": "code",
   "execution_count": 5,
   "id": "02d17aeb",
   "metadata": {},
   "outputs": [
    {
     "name": "stdout",
     "output_type": "stream",
     "text": [
      "{'id': 'bitcoin', 'symbol': 'btc', 'name': 'Bitcoin', 'image': 'https://coin-images.coingecko.com/coins/images/1/large/bitcoin.png?1696501400', 'current_price': 63413, 'market_cap': 1252806511068, 'market_cap_rank': 1, 'fully_diluted_valuation': 1331677319795, 'total_volume': 48845941140, 'high_24h': 63858, 'low_24h': 59626, 'price_change_24h': 3046.65, 'price_change_percentage_24h': 5.05, 'market_cap_change_24h': 61941512098, 'market_cap_change_percentage_24h': 5.2, 'circulating_supply': 19756240.0, 'total_supply': 21000000.0, 'max_supply': 21000000.0, 'ath': 73738, 'ath_change_percentage': -14.0, 'ath_date': '2024-03-14T07:10:36.635Z', 'atl': 67.81, 'atl_change_percentage': 93421.89, 'atl_date': '2013-07-06T00:00:00.000Z', 'roi': None, 'last_updated': '2024-09-19T19:21:27.888Z'}\n"
     ]
    }
   ],
   "source": [
    "# Round all relevant numerical values to 2 decimal places\n",
    "bitcoin_data['current_price'] = round(bitcoin_data['current_price'], 2)\n",
    "bitcoin_data['high_24h'] = round(bitcoin_data['high_24h'], 2)\n",
    "bitcoin_data['low_24h'] = round(bitcoin_data['low_24h'], 2)\n",
    "bitcoin_data['price_change_24h'] = round(bitcoin_data['price_change_24h'], 2)\n",
    "bitcoin_data['price_change_percentage_24h'] = round(bitcoin_data['price_change_percentage_24h'], 2)\n",
    "bitcoin_data['market_cap_change_percentage_24h'] = round(bitcoin_data['market_cap_change_percentage_24h'], 2)\n",
    "bitcoin_data['ath_change_percentage'] = round(bitcoin_data['ath_change_percentage'], 2)\n",
    "bitcoin_data['atl_change_percentage'] = round(bitcoin_data['atl_change_percentage'], 2)\n",
    "\n",
    "# Print the updated data\n",
    "print(bitcoin_data)\n"
   ]
  },
  {
   "cell_type": "code",
   "execution_count": 6,
   "id": "9946fb25",
   "metadata": {
    "scrolled": true
   },
   "outputs": [
    {
     "name": "stdout",
     "output_type": "stream",
     "text": [
      "{'id': 'bitcoin', 'symbol': 'btc', 'name': 'Bitcoin', 'image': 'https://coin-images.coingecko.com/coins/images/1/large/bitcoin.png?1696501400', 'current_price': 63413, 'market_cap': '1252.81B', 'market_cap_rank': 1, 'fully_diluted_valuation': 1331677319795, 'total_volume': '48.85B', 'high_24h': 63858, 'low_24h': 59626, 'price_change_24h': 3046.65, 'price_change_percentage_24h': 5.05, 'market_cap_change_24h': '61.94B', 'market_cap_change_percentage_24h': 5.2, 'circulating_supply': 19756240.0, 'total_supply': 21000000.0, 'max_supply': 21000000.0, 'ath': 73738, 'ath_change_percentage': -14.0, 'ath_date': '2024-03-14T07:10:36.635Z', 'atl': 67.81, 'atl_change_percentage': 93421.89, 'atl_date': '2013-07-06T00:00:00.000Z', 'roi': None, 'last_updated': '2024-09-19T19:21:27.888Z'}\n"
     ]
    }
   ],
   "source": [
    "# Function to format large numbers into millions (M) or billions (B)\n",
    "def format_large_numbers(num):\n",
    "    if num >= 1_000_000_000:\n",
    "        return f\"{round(num / 1_000_000_000, 2)}B\"\n",
    "    elif num >= 1_000_000:\n",
    "        return f\"{round(num / 1_000_000, 2)}M\"\n",
    "    else:\n",
    "        return num\n",
    "\n",
    "# Apply the function to format the market cap, total volume and market cap change\n",
    "bitcoin_data['market_cap'] = format_large_numbers(bitcoin_data['market_cap'])\n",
    "bitcoin_data['total_volume'] = format_large_numbers(bitcoin_data['total_volume'])\n",
    "bitcoin_data['market_cap_change_24h'] = format_large_numbers(bitcoin_data['market_cap_change_24h'])\n",
    "\n",
    "# Print the data\n",
    "print(bitcoin_data)\n"
   ]
  },
  {
   "cell_type": "code",
   "execution_count": 7,
   "id": "a7a53b6f",
   "metadata": {
    "scrolled": true
   },
   "outputs": [
    {
     "name": "stdout",
     "output_type": "stream",
     "text": [
      "{'id': 'bitcoin', 'symbol': 'btc', 'name': 'Bitcoin', 'image': 'https://coin-images.coingecko.com/coins/images/1/large/bitcoin.png?1696501400', 'current_price': 63413, 'market_cap': '1252.81B', 'market_cap_rank': 1, 'fully_diluted_valuation': 1331677319795, 'total_volume': '48.85B', 'high_24h': 63858, 'low_24h': 59626, 'price_change_24h': 3046.65, 'price_change_percentage_24h': 5.05, 'market_cap_change_24h': '61.94B', 'market_cap_change_percentage_24h': 5.2, 'circulating_supply': 19756240.0, 'total_supply': 21000000.0, 'max_supply': 21000000.0, 'ath': 73738, 'ath_change_percentage': -14.0, 'ath_date': '2024-03-14T07:10:36.635Z', 'atl': 67.81, 'atl_change_percentage': 93421.89, 'atl_date': '2013-07-06T00:00:00.000Z', 'roi': None, 'last_updated': '2024-09-19T19:21:27.888Z', 'percentage_change_from_low': 6.35}\n"
     ]
    }
   ],
   "source": [
    "# Calculate percentage change from the lowest price in the last 24h to the current price\n",
    "bitcoin_data['percentage_change_from_low'] = round(((bitcoin_data['current_price'] - bitcoin_data['low_24h']) / bitcoin_data['low_24h']) * 100, 2)\n",
    "\n",
    "# Print the updated data\n",
    "print(bitcoin_data)\n"
   ]
  },
  {
   "cell_type": "code",
   "execution_count": 8,
   "id": "ae3924c0",
   "metadata": {},
   "outputs": [
    {
     "name": "stdout",
     "output_type": "stream",
     "text": [
      "{'id': 'bitcoin', 'symbol': 'btc', 'name': 'Bitcoin', 'image': 'https://coin-images.coingecko.com/coins/images/1/large/bitcoin.png?1696501400', 'current_price': 63413, 'market_cap': '1252.81B', 'market_cap_rank': 1, 'fully_diluted_valuation': 1331677319795, 'total_volume': '48.85B', 'high_24h': 63858, 'low_24h': 59626, 'price_change_24h': 3046.65, 'price_change_percentage_24h': 5.05, 'market_cap_change_24h': '61.94B', 'market_cap_change_percentage_24h': 5.2, 'circulating_supply': 19756240.0, 'total_supply': 21000000.0, 'max_supply': 21000000.0, 'ath': 73738, 'ath_change_percentage': -14.0, 'ath_date': '2024-03-14T07:10:36.635Z', 'atl': 67.81, 'atl_change_percentage': 93421.89, 'atl_date': '2013-07-06T00:00:00.000Z', 'roi': None, 'last_updated': '2024-09-19T19:21:27.888Z', 'percentage_change_from_low': 6.35, 'retrieved_at': '2024-09-25 21:42:42'}\n"
     ]
    }
   ],
   "source": [
    "from datetime import datetime\n",
    "\n",
    "# Add a timestamp for when the data was retrieved\n",
    "bitcoin_data['retrieved_at'] = datetime.now().strftime('%Y-%m-%d %H:%M:%S')\n",
    "\n",
    "# Print the updated data\n",
    "print(bitcoin_data)\n"
   ]
  },
  {
   "cell_type": "code",
   "execution_count": 10,
   "id": "adbbc5b9",
   "metadata": {},
   "outputs": [],
   "source": [
    "import sqlite3\n",
    "\n",
    "# Connect to the SQLite database (or create)\n",
    "conn = sqlite3.connect('crypto_data.db')\n",
    "\n",
    "# Create a cursor object to interact with the database\n",
    "cursor = conn.cursor()\n",
    "\n",
    "# Create a table to store the Bitcoin data\n",
    "cursor.execute('''\n",
    "CREATE TABLE IF NOT EXISTS bitcoin_data (\n",
    "    id TEXT,\n",
    "    symbol TEXT,\n",
    "    name TEXT,\n",
    "    current_price REAL,\n",
    "    market_cap TEXT,\n",
    "    total_volume TEXT,\n",
    "    high_24h REAL,\n",
    "    low_24h REAL,\n",
    "    price_change_24h REAL,\n",
    "    price_change_percentage_24h REAL,\n",
    "    market_cap_change_24h TEXT,\n",
    "    market_cap_change_percentage_24h REAL,\n",
    "    circulating_supply REAL,\n",
    "    total_supply REAL,\n",
    "    max_supply REAL,\n",
    "    ath REAL,\n",
    "    ath_change_percentage REAL,\n",
    "    ath_date TEXT,\n",
    "    atl REAL,\n",
    "    atl_change_percentage REAL,\n",
    "    atl_date TEXT,\n",
    "    retrieved_at TEXT\n",
    ")\n",
    "''')\n",
    "\n",
    "# Commit the changes and close the connection to the database\n",
    "conn.commit()\n"
   ]
  },
  {
   "cell_type": "code",
   "execution_count": 14,
   "id": "a50497ea",
   "metadata": {},
   "outputs": [
    {
     "name": "stdout",
     "output_type": "stream",
     "text": [
      "Table created successfully!\n"
     ]
    }
   ],
   "source": [
    "print(\"Table created successfully!\")\n"
   ]
  },
  {
   "cell_type": "code",
   "execution_count": 15,
   "id": "b75fc3d7",
   "metadata": {},
   "outputs": [],
   "source": [
    "# Insert the Bitcoin data into the database\n",
    "cursor.execute('''\n",
    "INSERT INTO bitcoin_data (\n",
    "    id, symbol, name, current_price, market_cap, total_volume, high_24h, low_24h, \n",
    "    price_change_24h, price_change_percentage_24h, market_cap_change_24h, \n",
    "    market_cap_change_percentage_24h, circulating_supply, total_supply, max_supply, \n",
    "    ath, ath_change_percentage, ath_date, atl, atl_change_percentage, atl_date, retrieved_at\n",
    ") \n",
    "VALUES (?, ?, ?, ?, ?, ?, ?, ?, ?, ?, ?, ?, ?, ?, ?, ?, ?, ?, ?, ?, ?, ?)\n",
    "''', (\n",
    "    bitcoin_data['id'], bitcoin_data['symbol'], bitcoin_data['name'], bitcoin_data['current_price'],\n",
    "    bitcoin_data['market_cap'], bitcoin_data['total_volume'], bitcoin_data['high_24h'], \n",
    "    bitcoin_data['low_24h'], bitcoin_data['price_change_24h'], bitcoin_data['price_change_percentage_24h'],\n",
    "    bitcoin_data['market_cap_change_24h'], bitcoin_data['market_cap_change_percentage_24h'], \n",
    "    bitcoin_data['circulating_supply'], bitcoin_data['total_supply'], bitcoin_data['max_supply'], \n",
    "    bitcoin_data['ath'], bitcoin_data['ath_change_percentage'], bitcoin_data['ath_date'], \n",
    "    bitcoin_data['atl'], bitcoin_data['atl_change_percentage'], bitcoin_data['atl_date'], \n",
    "    bitcoin_data['retrieved_at']\n",
    "))\n",
    "\n",
    "# Commit the transaction and close the connection\n",
    "conn.commit()\n",
    "conn.close()\n"
   ]
  },
  {
   "cell_type": "code",
   "execution_count": 16,
   "id": "5bfa7837",
   "metadata": {},
   "outputs": [
    {
     "name": "stdout",
     "output_type": "stream",
     "text": [
      "('bitcoin', 'btc', 'Bitcoin', 63413.0, '1252.81B', '48.85B', 63858.0, 59626.0, 3046.65, 5.05, '61.94B', 5.2, 19756240.0, 21000000.0, 21000000.0, 73738.0, -14.0, '2024-03-14T07:10:36.635Z', 67.81, 93421.89, '2013-07-06T00:00:00.000Z', '2024-09-25 21:42:42')\n"
     ]
    }
   ],
   "source": [
    "import sqlite3\n",
    "\n",
    "# Connect to the SQLite database\n",
    "conn = sqlite3.connect('crypto_data.db')\n",
    "\n",
    "# Create a cursor\n",
    "cursor = conn.cursor()\n",
    "\n",
    "# Execute a query to retrieve all data from the bitcoin_data table\n",
    "cursor.execute(\"SELECT * FROM bitcoin_data\")\n",
    "\n",
    "# Fetch all the results\n",
    "rows = cursor.fetchall()\n",
    "\n",
    "# Print the retrieved data\n",
    "for row in rows:\n",
    "    print(row)\n",
    "\n",
    "# Close the connection\n",
    "conn.close()\n"
   ]
  },
  {
   "cell_type": "code",
   "execution_count": 18,
   "id": "08b1a992",
   "metadata": {},
   "outputs": [],
   "source": [
    "import logging\n",
    "import sqlite3\n",
    "import requests\n",
    "\n",
    "# Set up logging to log errors into a file\n",
    "logging.basicConfig(filename='crypto_log.log', level=logging.ERROR, format='%(asctime)s - %(levelname)s - %(message)s')\n",
    "\n",
    "try:\n",
    "    # Fetch data from the CoinGecko API\n",
    "    url = \"https://api.coingecko.com/api/v3/coins/markets\"\n",
    "    params = {\n",
    "        'vs_currency': 'usd',\n",
    "        'ids': 'bitcoin',\n",
    "        'order': 'market_cap_desc'\n",
    "    }\n",
    "    response = requests.get(url, params=params)\n",
    "    response.raise_for_status()  # Raise an exception if the request fails\n",
    "\n",
    "    bitcoin_data = response.json()[0]\n",
    "\n",
    "    # Connect to the SQLite database\n",
    "    conn = sqlite3.connect('crypto_data.db')\n",
    "    cursor = conn.cursor()\n",
    "\n",
    "    # Insert data into the database\n",
    "    cursor.execute('''\n",
    "    INSERT INTO bitcoin_data (\n",
    "        id, symbol, name, current_price, market_cap, total_volume, high_24h, low_24h, \n",
    "        price_change_24h, price_change_percentage_24h, market_cap_change_24h, \n",
    "        market_cap_change_percentage_24h, circulating_supply, total_supply, max_supply, \n",
    "        ath, ath_change_percentage, ath_date, atl, atl_change_percentage, atl_date, retrieved_at\n",
    "    ) \n",
    "    VALUES (?, ?, ?, ?, ?, ?, ?, ?, ?, ?, ?, ?, ?, ?, ?, ?, ?, ?, ?, ?, ?, ?)\n",
    "    ''', (\n",
    "        bitcoin_data['id'], bitcoin_data['symbol'], bitcoin_data['name'], bitcoin_data['current_price'],\n",
    "        bitcoin_data['market_cap'], bitcoin_data['total_volume'], bitcoin_data['high_24h'], \n",
    "        bitcoin_data['low_24h'], bitcoin_data['price_change_24h'], bitcoin_data['price_change_percentage_24h'],\n",
    "        bitcoin_data['market_cap_change_24h'], bitcoin_data['market_cap_change_percentage_24h'], \n",
    "        bitcoin_data['circulating_supply'], bitcoin_data['total_supply'], bitcoin_data['max_supply'], \n",
    "        bitcoin_data['ath'], bitcoin_data['ath_change_percentage'], bitcoin_data['ath_date'], \n",
    "        bitcoin_data['atl'], bitcoin_data['atl_change_percentage'], bitcoin_data['atl_date'], \n",
    "        bitcoin_data['retrieved_at']\n",
    "    ))\n",
    "\n",
    "    conn.commit()\n",
    "\n",
    "# Handle API request errors\n",
    "except requests.exceptions.RequestException as e:\n",
    "    logging.error(f\"Error fetching data from CoinGecko API: {e}\")\n",
    "\n",
    "# Handle SQLite database errors\n",
    "except sqlite3.Error as e:\n",
    "    logging.error(f\"SQLite error: {e}\")\n",
    "\n",
    "# Handle any other unexpected errors\n",
    "except Exception as e:\n",
    "    logging.error(f\"Unexpected error: {e}\")\n",
    "\n",
    "# Ensure the database connection is closed even if an error occurs\n",
    "finally:\n",
    "    if 'conn' in locals():\n",
    "        conn.close()\n"
   ]
  },
  {
   "cell_type": "code",
   "execution_count": 19,
   "id": "0c798371",
   "metadata": {},
   "outputs": [
    {
     "name": "stdout",
     "output_type": "stream",
     "text": [
      "Data inserted successfully!\n"
     ]
    }
   ],
   "source": [
    "print(\"Data inserted successfully!\")\n"
   ]
  },
  {
   "cell_type": "code",
   "execution_count": 31,
   "id": "061d8b12",
   "metadata": {},
   "outputs": [
    {
     "name": "stdout",
     "output_type": "stream",
     "text": [
      "2024-09-25 22:43:56,907 - ERROR - Unexpected error: 'retrieved_at'\n",
      "2024-09-25 22:44:10,152 - ERROR - Unexpected error: 'retrieved_at'\n",
      "2024-09-27 18:30:08,461 - ERROR - Unexpected error: 'retrieved_at'\n",
      "2024-09-27 18:47:12,242 - ERROR - Unexpected error: 'retrieved_at'\n",
      "2024-09-27 18:49:40,527 - ERROR - Unexpected error: 'retrieved_at'\n",
      "\n"
     ]
    }
   ],
   "source": [
    "# Opening the file and the appearance of errors (log)\n",
    "with open('crypto_log.log', 'r') as log_file:\n",
    "    log_contents = log_file.read()\n",
    "    print(log_contents)\n"
   ]
  },
  {
   "cell_type": "code",
   "execution_count": 20,
   "id": "f94d264a",
   "metadata": {},
   "outputs": [
    {
     "name": "stderr",
     "output_type": "stream",
     "text": [
      "test_fetch_bitcoin_data (__main__.TestCryptoData.test_fetch_bitcoin_data)\n",
      "Test if the API returns valid Bitcoin data ... ok\n",
      "test_insert_data (__main__.TestCryptoData.test_insert_data)\n",
      "Test if data is inserted into the database correctly ... ok\n",
      "\n",
      "----------------------------------------------------------------------\n",
      "Ran 2 tests in 0.007s\n",
      "\n",
      "OK\n"
     ]
    }
   ],
   "source": [
    "import unittest\n",
    "\n",
    "# Create a test case for our functions\n",
    "class TestCryptoData(unittest.TestCase):\n",
    "    \n",
    "    def test_fetch_bitcoin_data(self):\n",
    "        \"\"\"Test if the API returns valid Bitcoin data\"\"\"\n",
    "        data = bitcoin_data  # Use the data we have retrieved\n",
    "        self.assertIn('id', data)  # Check if the 'id' field exists in the data\n",
    "        self.assertEqual(data['id'], 'bitcoin')  # Check if the id is 'bitcoin'\n",
    "        self.assertIn('current_price', data)  # Check if the 'current_price' field exists\n",
    "        \n",
    "    def test_insert_data(self):\n",
    "        \"\"\"Test if data is inserted into the database correctly\"\"\"\n",
    "        conn = sqlite3.connect('crypto_data.db')\n",
    "        cursor = conn.cursor()\n",
    "        cursor.execute(\"SELECT * FROM bitcoin_data\")\n",
    "        rows = cursor.fetchall()\n",
    "        self.assertGreater(len(rows), 0, \"No data found in the database\")  # Ensure there is at least one row in the database\n",
    "        conn.close()\n",
    "\n",
    "# Run the tests\n",
    "def run_tests():\n",
    "    suite = unittest.TestLoader().loadTestsFromTestCase(TestCryptoData)\n",
    "    unittest.TextTestRunner(verbosity=2).run(suite)\n",
    "\n",
    "# Call the function to run the tests\n",
    "run_tests()\n"
   ]
  },
  {
   "cell_type": "code",
   "execution_count": 25,
   "id": "31d66d3c",
   "metadata": {},
   "outputs": [
    {
     "name": "stderr",
     "output_type": "stream",
     "text": [
      "test_error_handling (__main__.TestCryptoData.test_error_handling)\n",
      "Test if errors are handled and printed correctly ... ok\n",
      "\n",
      "----------------------------------------------------------------------\n",
      "Ran 1 test in 0.005s\n",
      "\n",
      "OK\n"
     ]
    },
    {
     "name": "stdout",
     "output_type": "stream",
     "text": [
      "Handled error: Test Error\n"
     ]
    }
   ],
   "source": [
    "import unittest\n",
    "\n",
    "# Create a test case for error handling\n",
    "class TestCryptoData(unittest.TestCase):\n",
    "    \n",
    "    def test_error_handling(self):\n",
    "        \"\"\"Test if errors are handled and printed correctly\"\"\"\n",
    "        \n",
    "        # Simulate an error and catch it\n",
    "        try:\n",
    "            raise ValueError(\"Test Error\")  # Simulating an error\n",
    "        except ValueError as e:\n",
    "            print(f\"Handled error: {e}\")  # Print the error in the notebook console\n",
    "            self.assertEqual(str(e), \"Test Error\")  # Verify the error message\n",
    "\n",
    "# Function to run the tests\n",
    "def run_tests():\n",
    "    suite = unittest.TestLoader().loadTestsFromTestCase(TestCryptoData)\n",
    "    unittest.TextTestRunner(verbosity=2).run(suite)\n",
    "\n",
    "# Call the function to run the tests\n",
    "run_tests()\n"
   ]
  },
  {
   "cell_type": "code",
   "execution_count": 26,
   "id": "ce22d6aa",
   "metadata": {},
   "outputs": [
    {
     "name": "stderr",
     "output_type": "stream",
     "text": [
      "test_format_large_numbers (__main__.TestCryptoData.test_format_large_numbers)\n",
      "Test if large numbers are formatted correctly ... ok\n",
      "\n",
      "----------------------------------------------------------------------\n",
      "Ran 1 test in 0.007s\n",
      "\n",
      "OK\n"
     ]
    }
   ],
   "source": [
    "import unittest\n",
    "\n",
    "# Create a test case for the number formatting function\n",
    "class TestCryptoData(unittest.TestCase):\n",
    "    \n",
    "    def test_format_large_numbers(self):\n",
    "        \"\"\"Test if large numbers are formatted correctly\"\"\"\n",
    "        self.assertEqual(format_large_numbers(1_200_000_000), \"1.2B\")  # Check formatting in billions\n",
    "        self.assertEqual(format_large_numbers(500_000), 500_000)  # Smaller numbers should remain unchanged\n",
    "        self.assertEqual(format_large_numbers(3_500_000), \"3.5M\")  # Check formatting in millions\n",
    "\n",
    "# Function to run the tests\n",
    "def run_tests():\n",
    "    suite = unittest.TestLoader().loadTestsFromTestCase(TestCryptoData)\n",
    "    unittest.TextTestRunner(verbosity=2).run(suite)\n",
    "\n",
    "# Call the function to run the tests\n",
    "run_tests()\n"
   ]
  },
  {
   "cell_type": "code",
   "execution_count": null,
   "id": "3edc2254",
   "metadata": {},
   "outputs": [],
   "source": []
  },
  {
   "cell_type": "code",
   "execution_count": null,
   "id": "239fceb9",
   "metadata": {},
   "outputs": [],
   "source": []
  },
  {
   "cell_type": "code",
   "execution_count": null,
   "id": "b389f618",
   "metadata": {},
   "outputs": [],
   "source": []
  },
  {
   "cell_type": "code",
   "execution_count": null,
   "id": "d09e9e60",
   "metadata": {},
   "outputs": [],
   "source": []
  },
  {
   "cell_type": "code",
   "execution_count": null,
   "id": "38223ec1",
   "metadata": {},
   "outputs": [],
   "source": []
  }
 ],
 "metadata": {
  "kernelspec": {
   "display_name": "Python 3 (ipykernel)",
   "language": "python",
   "name": "python3"
  },
  "language_info": {
   "codemirror_mode": {
    "name": "ipython",
    "version": 3
   },
   "file_extension": ".py",
   "mimetype": "text/x-python",
   "name": "python",
   "nbconvert_exporter": "python",
   "pygments_lexer": "ipython3",
   "version": "3.11.5"
  }
 },
 "nbformat": 4,
 "nbformat_minor": 5
}
